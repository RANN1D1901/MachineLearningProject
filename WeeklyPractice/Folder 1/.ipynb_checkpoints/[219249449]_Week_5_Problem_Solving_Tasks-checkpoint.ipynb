{
 "cells": [
  {
   "cell_type": "markdown",
   "metadata": {},
   "source": [
    "**Exercise 5.1**\n",
    "\n",
    "i) Generate an array of random integer numbers in range [10,1000] with size 100;\n",
    " \n",
    "ii) Discritise this array into k= 10 bins, such that each bin is of equal width using (delta = xmax - xmin/k);\n",
    "\n",
    "iii) Plot the histogram;\n",
    "\n",
    "iv) Reapet i)-iii) by generating an array of random numbers by normal distribution with (loc=0.0, scale=1.0, size = 100);\n",
    "\n",
    "v) Generate an array of random numbers by lognormal distribution with (mean=2.0, sigma=2.0, size=100) and setting bins as [0, 1, 2, 5, 10, 20, 30, 40, 50, 60, 70, 80,90, 100]."
   ]
  },
  {
   "cell_type": "markdown",
   "metadata": {},
   "source": [
    "# Generate an array of random integer numbers in range [10,1000] with size 100"
   ]
  },
  {
   "cell_type": "code",
   "execution_count": 1,
   "metadata": {},
   "outputs": [
    {
     "name": "stdout",
     "output_type": "stream",
     "text": [
      "<class 'numpy.ndarray'>\n",
      "100\n"
     ]
    }
   ],
   "source": [
    "#Generate an array of random integer numbers in range [10,1000] with size 100\n",
    "import pandas as pd\n",
    "import numpy as np\n",
    "data = (np.random.randint(10,1000,size =(100, 1)))\n",
    "print(type(data))\n",
    "print(len(data))"
   ]
  },
  {
   "cell_type": "markdown",
   "metadata": {},
   "source": [
    "## Discritise this array into k= 10 bins, such that each bin is of equal width using (delta = xmax - xmin/k)"
   ]
  },
  {
   "cell_type": "code",
   "execution_count": 2,
   "metadata": {},
   "outputs": [
    {
     "name": "stdout",
     "output_type": "stream",
     "text": [
      "[ 12.  110.5 209.  307.5 406.  504.5 603.  701.5 800.  898.5 997. ]\n"
     ]
    }
   ],
   "source": [
    "#create bins 10.\n",
    "delta=(data.max()-data.min())/10\n",
    "j=data.min()\n",
    "bins=[]\n",
    "first=delta+j\n",
    "bins.append(data.min())\n",
    "bins.append(first)\n",
    "second=first+delta\n",
    "bins.append(second)\n",
    "third=second+delta\n",
    "bins.append(third)\n",
    "fourth=third+delta\n",
    "bins.append(fourth)\n",
    "fifth=fourth+delta\n",
    "bins.append(fifth)\n",
    "sixth=fifth+delta\n",
    "bins.append(sixth)\n",
    "seventh=sixth+delta\n",
    "bins.append(seventh)\n",
    "eight=seventh+delta\n",
    "bins.append(eight)\n",
    "ninth=eight+delta\n",
    "bins.append(ninth)\n",
    "tenth=ninth+delta\n",
    "bins.append(tenth)\n",
    "bins=np.array(bins)\n",
    "print(bins)"
   ]
  },
  {
   "cell_type": "code",
   "execution_count": 3,
   "metadata": {},
   "outputs": [
    {
     "data": {
      "text/plain": [
       "[(110.5, 209.0], (603.0, 701.5], (603.0, 701.5], (12.0, 110.5], (603.0, 701.5], ..., (307.5, 406.0], (307.5, 406.0], (307.5, 406.0], (12.0, 110.5], (504.5, 603.0]]\n",
       "Length: 100\n",
       "Categories (10, interval[float64]): [(12.0, 110.5] < (110.5, 209.0] < (209.0, 307.5] < (307.5, 406.0] ... (603.0, 701.5] < (701.5, 800.0] < (800.0, 898.5] < (898.5, 997.0]]"
      ]
     },
     "execution_count": 3,
     "metadata": {},
     "output_type": "execute_result"
    }
   ],
   "source": [
    "#discretization\n",
    "b = data.ravel()\n",
    "cats = pd.cut(b, bins)\n",
    "cats"
   ]
  },
  {
   "cell_type": "code",
   "execution_count": 4,
   "metadata": {},
   "outputs": [
    {
     "data": {
      "text/plain": [
       "IntervalIndex([(12.0, 110.5], (110.5, 209.0], (209.0, 307.5], (307.5, 406.0], (406.0, 504.5], (504.5, 603.0], (603.0, 701.5], (701.5, 800.0], (800.0, 898.5], (898.5, 997.0]],\n",
       "              closed='right',\n",
       "              dtype='interval[float64]')"
      ]
     },
     "execution_count": 4,
     "metadata": {},
     "output_type": "execute_result"
    }
   ],
   "source": [
    "cats.categories"
   ]
  },
  {
   "cell_type": "code",
   "execution_count": 5,
   "metadata": {},
   "outputs": [
    {
     "data": {
      "text/plain": [
       "(406.0, 504.5]    13\n",
       "(603.0, 701.5]    12\n",
       "(110.5, 209.0]    12\n",
       "(504.5, 603.0]    11\n",
       "(12.0, 110.5]     11\n",
       "(800.0, 898.5]     9\n",
       "(898.5, 997.0]     8\n",
       "(701.5, 800.0]     8\n",
       "(307.5, 406.0]     8\n",
       "(209.0, 307.5]     7\n",
       "dtype: int64"
      ]
     },
     "execution_count": 5,
     "metadata": {},
     "output_type": "execute_result"
    }
   ],
   "source": [
    "pd.value_counts(cats)"
   ]
  },
  {
   "cell_type": "markdown",
   "metadata": {},
   "source": [
    "## Plot the histogram using PANDAS "
   ]
  },
  {
   "cell_type": "code",
   "execution_count": 6,
   "metadata": {},
   "outputs": [
    {
     "data": {
      "text/plain": [
       "<matplotlib.axes._subplots.AxesSubplot at 0x7f9a11fe4490>"
      ]
     },
     "execution_count": 6,
     "metadata": {},
     "output_type": "execute_result"
    },
    {
     "data": {
      "image/png": "[encoded data removed]",
      "text/plain": [
       "<Figure size 432x288 with 1 Axes>"
      ]
     },
     "metadata": {
      "needs_background": "light"
     },
     "output_type": "display_data"
    }
   ],
   "source": [
    "#Plot the histogram using PANDAS\n",
    "pd_new=pd.Series(data.ravel())\n",
    "pd_new.plot.hist(grid=True, bins=10, rwidth=0.9,\n",
    "                   color='#303c8e')"
   ]
  },
  {
   "cell_type": "markdown",
   "metadata": {},
   "source": [
    "## Generating an array of random numbers by normal distribution with (loc=0.0, scale=1.0, size = 100)"
   ]
  },
  {
   "cell_type": "code",
   "execution_count": 7,
   "metadata": {},
   "outputs": [
    {
     "data": {
      "text/plain": [
       "numpy.ndarray"
      ]
     },
     "execution_count": 7,
     "metadata": {},
     "output_type": "execute_result"
    }
   ],
   "source": [
    "data=np.random.normal(0.0, 1.0, size=100)\n",
    "type(data)"
   ]
  },
  {
   "cell_type": "markdown",
   "metadata": {},
   "source": [
    "## Discritise this array into k= 10 bins, such that each bin is of equal width using (delta = xmax - xmin/k)"
   ]
  },
  {
   "cell_type": "code",
   "execution_count": 8,
   "metadata": {},
   "outputs": [
    {
     "name": "stdout",
     "output_type": "stream",
     "text": [
      "[-2.45528383 -1.91261815 -1.36995246 -0.82728678 -0.2846211   0.25804459\n",
      "  0.80071027  1.34337595  1.88604164  2.42870732  2.971373  ]\n"
     ]
    }
   ],
   "source": [
    "#create bins 10.\n",
    "delta=(data.max()-data.min())/10\n",
    "j=data.min()\n",
    "bins=[]\n",
    "first=delta+j\n",
    "bins.append(data.min())\n",
    "bins.append(first)\n",
    "second=first+delta\n",
    "bins.append(second)\n",
    "third=second+delta\n",
    "bins.append(third)\n",
    "fourth=third+delta\n",
    "bins.append(fourth)\n",
    "fifth=fourth+delta\n",
    "bins.append(fifth)\n",
    "sixth=fifth+delta\n",
    "bins.append(sixth)\n",
    "seventh=sixth+delta\n",
    "bins.append(seventh)\n",
    "eight=seventh+delta\n",
    "bins.append(eight)\n",
    "ninth=eight+delta\n",
    "bins.append(ninth)\n",
    "tenth=ninth+delta\n",
    "bins.append(tenth)\n",
    "bins=np.array(bins)\n",
    "print(bins)"
   ]
  },
  {
   "cell_type": "code",
   "execution_count": 9,
   "metadata": {},
   "outputs": [
    {
     "data": {
      "text/plain": [
       "[(-2.455, -1.913], (0.801, 1.343], (0.258, 0.801], (0.801, 1.343], (-0.285, 0.258], ..., (-0.285, 0.258], (-0.285, 0.258], (0.801, 1.343], (-1.37, -0.827], (-1.37, -0.827]]\n",
       "Length: 100\n",
       "Categories (10, interval[float64]): [(-2.455, -1.913] < (-1.913, -1.37] < (-1.37, -0.827] < (-0.827, -0.285] ... (0.801, 1.343] < (1.343, 1.886] < (1.886, 2.429] < (2.429, 2.971]]"
      ]
     },
     "execution_count": 9,
     "metadata": {},
     "output_type": "execute_result"
    }
   ],
   "source": [
    "#discretization\n",
    "b = data.ravel()\n",
    "cats = pd.cut(b, bins)\n",
    "cats"
   ]
  },
  {
   "cell_type": "code",
   "execution_count": 10,
   "metadata": {},
   "outputs": [
    {
     "data": {
      "text/plain": [
       "IntervalIndex([(-2.455, -1.913], (-1.913, -1.37], (-1.37, -0.827], (-0.827, -0.285], (-0.285, 0.258], (0.258, 0.801], (0.801, 1.343], (1.343, 1.886], (1.886, 2.429], (2.429, 2.971]],\n",
       "              closed='right',\n",
       "              dtype='interval[float64]')"
      ]
     },
     "execution_count": 10,
     "metadata": {},
     "output_type": "execute_result"
    }
   ],
   "source": [
    "cats.categories"
   ]
  },
  {
   "cell_type": "markdown",
   "metadata": {},
   "source": [
    "# Plot the histogram using PANDAS"
   ]
  },
  {
   "cell_type": "code",
   "execution_count": 11,
   "metadata": {},
   "outputs": [
    {
     "data": {
      "text/plain": [
       "<matplotlib.axes._subplots.AxesSubplot at 0x7f9a120e4880>"
      ]
     },
     "execution_count": 11,
     "metadata": {},
     "output_type": "execute_result"
    },
    {
     "data": {
      "image/png": "[encoded data removed]",
      "text/plain": [
       "<Figure size 432x288 with 1 Axes>"
      ]
     },
     "metadata": {
      "needs_background": "light"
     },
     "output_type": "display_data"
    }
   ],
   "source": [
    "#Plot the histogram using PANDAS\n",
    "pd_new=pd.Series(data.ravel())\n",
    "pd_new.plot.hist(grid=True, bins=10, rwidth=0.9,\n",
    "                   color='#303c8e')"
   ]
  },
  {
   "cell_type": "markdown",
   "metadata": {},
   "source": [
    "# Generate an array of random numbers by lognormal distribution with (mean=2.0, sigma=2.0, size=100)"
   ]
  },
  {
   "cell_type": "code",
   "execution_count": 12,
   "metadata": {},
   "outputs": [
    {
     "data": {
      "text/plain": [
       "array([3.26120284e+00, 1.63397175e+01, 3.38158465e+01, 1.72818655e+00,\n",
       "       8.90469683e+01, 3.70511601e+02, 2.72864473e-01, 6.03265461e-01,\n",
       "       1.64116818e+00, 7.71829037e-01, 3.99957024e+00, 8.65412369e-01,\n",
       "       5.67160372e-01, 7.21201281e+00, 1.89388946e+01, 1.27764528e+01,\n",
       "       3.03120382e+02, 4.48571800e+01, 4.07306759e+00, 5.19051984e+00,\n",
       "       6.19131110e+01, 2.64047419e+02, 1.62861163e+01, 3.45742967e+00,\n",
       "       2.40686776e+01, 1.74940905e+01, 2.94513045e+00, 5.48677975e+00,\n",
       "       1.18462553e+00, 1.19350465e+00, 1.78320796e+01, 6.11832506e+00,\n",
       "       1.24574537e+00, 2.98822560e-01, 1.42674454e+01, 3.32311401e+01,\n",
       "       8.55535681e+00, 3.09068030e+00, 2.69200698e+00, 1.03943659e+02,\n",
       "       1.87369800e+01, 1.93470381e+01, 2.67040853e+01, 2.22965573e+01,\n",
       "       3.88117915e-01, 2.12968633e+01, 3.74086739e+01, 6.56601074e-01,\n",
       "       2.65777000e+01, 1.25861597e+00, 2.15733308e+01, 1.56416933e+00,\n",
       "       2.30287476e+00, 5.45759069e+00, 6.43704567e+01, 4.54572629e+00,\n",
       "       2.13039139e+00, 1.13535812e+00, 4.85646516e+00, 3.18124317e+00,\n",
       "       1.84062795e+01, 7.17083851e+00, 1.42005489e+01, 7.34270826e-01,\n",
       "       1.65048494e+00, 3.28303689e+00, 5.15029917e-01, 1.64002570e+00,\n",
       "       2.61598485e+02, 3.81466820e+00, 1.58528921e+00, 5.10895479e+01,\n",
       "       5.82749316e+00, 5.27375902e+00, 2.81113939e+00, 5.58521624e+00,\n",
       "       3.13777054e+01, 1.44367435e+01, 9.97525694e-02, 7.49148192e+01,\n",
       "       1.06049108e+01, 4.87888105e+00, 5.14991495e+01, 1.48814070e+00,\n",
       "       2.80778672e+00, 6.26688963e+01, 8.22736700e-01, 6.21235184e-01,\n",
       "       6.12932568e+00, 1.31422329e+00, 1.56115507e+02, 1.64661621e+01,\n",
       "       2.40192816e+00, 1.48287629e+00, 3.50423655e+00, 4.14697016e+01,\n",
       "       3.85367531e+00, 1.58239020e+00, 4.16628768e+01, 1.74072679e+01])"
      ]
     },
     "execution_count": 12,
     "metadata": {},
     "output_type": "execute_result"
    }
   ],
   "source": [
    "mu, sigma = 2.0, 2.0\n",
    "data=np.random.lognormal(mu, sigma, 100)\n",
    "data"
   ]
  },
  {
   "cell_type": "markdown",
   "metadata": {},
   "source": [
    "## Discritise this array into k= 10 bins, such that each bin is of equal width using (delta = xmax - xmin/k)¶ "
   ]
  },
  {
   "cell_type": "code",
   "execution_count": 13,
   "metadata": {},
   "outputs": [
    {
     "name": "stdout",
     "output_type": "stream",
     "text": [
      "[9.97525694e-02 3.71409374e+01 7.41821223e+01 1.11223307e+02\n",
      " 1.48264492e+02 1.85305677e+02 2.22346862e+02 2.59388047e+02\n",
      " 2.96429231e+02 3.33470416e+02 3.70511601e+02]\n"
     ]
    }
   ],
   "source": [
    "#create bins 10.\n",
    "delta=(data.max()-data.min())/10\n",
    "j=data.min()\n",
    "bins=[]\n",
    "first=delta+j\n",
    "bins.append(data.min())\n",
    "bins.append(first)\n",
    "second=first+delta\n",
    "bins.append(second)\n",
    "third=second+delta\n",
    "bins.append(third)\n",
    "fourth=third+delta\n",
    "bins.append(fourth)\n",
    "fifth=fourth+delta\n",
    "bins.append(fifth)\n",
    "sixth=fifth+delta\n",
    "bins.append(sixth)\n",
    "seventh=sixth+delta\n",
    "bins.append(seventh)\n",
    "eight=seventh+delta\n",
    "bins.append(eight)\n",
    "ninth=eight+delta\n",
    "bins.append(ninth)\n",
    "tenth=ninth+delta\n",
    "bins.append(tenth)\n",
    "bins=np.array(bins)\n",
    "print(bins)"
   ]
  },
  {
   "cell_type": "code",
   "execution_count": 14,
   "metadata": {},
   "outputs": [
    {
     "data": {
      "text/plain": [
       "[(0.0998, 37.141], (0.0998, 37.141], (0.0998, 37.141], (0.0998, 37.141], (74.182, 111.223], ..., (37.141, 74.182], (0.0998, 37.141], (0.0998, 37.141], (37.141, 74.182], (0.0998, 37.141]]\n",
       "Length: 100\n",
       "Categories (10, interval[float64]): [(0.0998, 37.141] < (37.141, 74.182] < (74.182, 111.223] < (111.223, 148.264] ... (222.347, 259.388] < (259.388, 296.429] < (296.429, 333.47] < (333.47, 370.512]]"
      ]
     },
     "execution_count": 14,
     "metadata": {},
     "output_type": "execute_result"
    }
   ],
   "source": [
    "#discretization\n",
    "b = data.ravel()\n",
    "cats = pd.cut(b, bins)\n",
    "cats"
   ]
  },
  {
   "cell_type": "code",
   "execution_count": 15,
   "metadata": {},
   "outputs": [
    {
     "data": {
      "text/plain": [
       "IntervalIndex([(0.0998, 37.141], (37.141, 74.182], (74.182, 111.223], (111.223, 148.264], (148.264, 185.306], (185.306, 222.347], (222.347, 259.388], (259.388, 296.429], (296.429, 333.47], (333.47, 370.512]],\n",
       "              closed='right',\n",
       "              dtype='interval[float64]')"
      ]
     },
     "execution_count": 15,
     "metadata": {},
     "output_type": "execute_result"
    }
   ],
   "source": [
    "cats.categories"
   ]
  },
  {
   "cell_type": "markdown",
   "metadata": {},
   "source": [
    "## Plot the histogram using PANDAS¶"
   ]
  },
  {
   "cell_type": "code",
   "execution_count": 16,
   "metadata": {},
   "outputs": [
    {
     "data": {
      "text/plain": [
       "<matplotlib.axes._subplots.AxesSubplot at 0x7f9a1232beb0>"
      ]
     },
     "execution_count": 16,
     "metadata": {},
     "output_type": "execute_result"
    },
    {
     "data": {
      "image/png": "[encoded data removed]",
      "text/plain": [
       "<Figure size 432x288 with 1 Axes>"
      ]
     },
     "metadata": {
      "needs_background": "light"
     },
     "output_type": "display_data"
    }
   ],
   "source": [
    "pd_new=pd.Series(data.ravel())\n",
    "pd_new.plot.hist(grid=True, bins=10, rwidth=0.9,\n",
    "                   color='#303c8e')"
   ]
  },
  {
   "cell_type": "markdown",
   "metadata": {},
   "source": [
    "**Exercise 5.2**\n",
    "\n",
    "Generate a data frame with 3 columns and 200 rows by selecting randomly selected numers: use for the first column the \"normal\" distribution with (loc=0.0, scale=1.0, size=200) and for the last 2 columns the \"exponential\" distribution with (mean=0.0, sigma=2.0, size=200) and (mean=1.0, sigma=3.0, size=200).\n",
    "\n",
    "Find any outlier with a z-value > 3 or z-value <- 3 and replace that with the mean of the values, eg perform Mean substitution for outliers.\n",
    "\n",
    "Write a report about cells with outliers, thier z-scores and substituted values. \n"
   ]
  },
  {
   "cell_type": "code",
   "execution_count": 212,
   "metadata": {},
   "outputs": [],
   "source": [
    "\n",
    "from scipy.stats import expon\n",
    "first_column=np.random.normal(0.0, 1.0, size=200)\n",
    "second_column=expon.rvs(scale=2,size=200)\n",
    "third_column=expon.rvs(scale=3,size=200)\n",
    "d = {'First':first_column,'Second':second_column,'Third':third_column}"
   ]
  },
  {
   "cell_type": "code",
   "execution_count": 213,
   "metadata": {},
   "outputs": [
    {
     "data": {
      "text/html": [
       "<div>\n",
       "<style scoped>\n",
       "    .dataframe tbody tr th:only-of-type {\n",
       "        vertical-align: middle;\n",
       "    }\n",
       "\n",
       "    .dataframe tbody tr th {\n",
       "        vertical-align: top;\n",
       "    }\n",
       "\n",
       "    .dataframe thead th {\n",
       "        text-align: right;\n",
       "    }\n",
       "</style>\n",
       "<table border=\"1\" class=\"dataframe\">\n",
       "  <thead>\n",
       "    <tr style=\"text-align: right;\">\n",
       "      <th></th>\n",
       "      <th>First</th>\n",
       "      <th>Second</th>\n",
       "      <th>Third</th>\n",
       "    </tr>\n",
       "  </thead>\n",
       "  <tbody>\n",
       "    <tr>\n",
       "      <th>0</th>\n",
       "      <td>0.696354</td>\n",
       "      <td>0.0</td>\n",
       "      <td>3.0</td>\n",
       "    </tr>\n",
       "    <tr>\n",
       "      <th>1</th>\n",
       "      <td>-2.152783</td>\n",
       "      <td>0.0</td>\n",
       "      <td>3.0</td>\n",
       "    </tr>\n",
       "    <tr>\n",
       "      <th>2</th>\n",
       "      <td>-1.406021</td>\n",
       "      <td>0.0</td>\n",
       "      <td>3.0</td>\n",
       "    </tr>\n",
       "    <tr>\n",
       "      <th>3</th>\n",
       "      <td>2.092881</td>\n",
       "      <td>0.0</td>\n",
       "      <td>3.0</td>\n",
       "    </tr>\n",
       "    <tr>\n",
       "      <th>4</th>\n",
       "      <td>1.059680</td>\n",
       "      <td>0.0</td>\n",
       "      <td>3.0</td>\n",
       "    </tr>\n",
       "  </tbody>\n",
       "</table>\n",
       "</div>"
      ],
      "text/plain": [
       "      First  Second  Third\n",
       "0  0.696354     0.0    3.0\n",
       "1 -2.152783     0.0    3.0\n",
       "2 -1.406021     0.0    3.0\n",
       "3  2.092881     0.0    3.0\n",
       "4  1.059680     0.0    3.0"
      ]
     },
     "execution_count": 213,
     "metadata": {},
     "output_type": "execute_result"
    }
   ],
   "source": [
    "df.head()"
   ]
  },
  {
   "cell_type": "code",
   "execution_count": 214,
   "metadata": {},
   "outputs": [],
   "source": [
    "df_zscore = (df - df.mean())/df.std()\n",
    "df['First_z']=df_zscore['First']\n",
    "df['Second_z']=df_zscore['Second']\n",
    "df['Third_z']=df_zscore['Third']"
   ]
  },
  {
   "cell_type": "code",
   "execution_count": 215,
   "metadata": {},
   "outputs": [
    {
     "data": {
      "text/html": [
       "<div>\n",
       "<style scoped>\n",
       "    .dataframe tbody tr th:only-of-type {\n",
       "        vertical-align: middle;\n",
       "    }\n",
       "\n",
       "    .dataframe tbody tr th {\n",
       "        vertical-align: top;\n",
       "    }\n",
       "\n",
       "    .dataframe thead th {\n",
       "        text-align: right;\n",
       "    }\n",
       "</style>\n",
       "<table border=\"1\" class=\"dataframe\">\n",
       "  <thead>\n",
       "    <tr style=\"text-align: right;\">\n",
       "      <th></th>\n",
       "      <th>First</th>\n",
       "      <th>Second</th>\n",
       "      <th>Third</th>\n",
       "      <th>First_z</th>\n",
       "      <th>Second_z</th>\n",
       "      <th>Third_z</th>\n",
       "    </tr>\n",
       "  </thead>\n",
       "  <tbody>\n",
       "  </tbody>\n",
       "</table>\n",
       "</div>"
      ],
      "text/plain": [
       "Empty DataFrame\n",
       "Columns: [First, Second, Third, First_z, Second_z, Third_z]\n",
       "Index: []"
      ]
     },
     "execution_count": 215,
     "metadata": {},
     "output_type": "execute_result"
    }
   ],
   "source": [
    "a=df[df['First_z']<-3]\n",
    "a"
   ]
  },
  {
   "cell_type": "code",
   "execution_count": 216,
   "metadata": {},
   "outputs": [],
   "source": [
    "df['First'] = df['First'].replace(a['First'].to_list(),df['First'].mean())\n",
    "for i in a.index:\n",
    "    print(df['First'].iloc[i])"
   ]
  },
  {
   "cell_type": "code",
   "execution_count": 217,
   "metadata": {},
   "outputs": [
    {
     "data": {
      "text/html": [
       "<div>\n",
       "<style scoped>\n",
       "    .dataframe tbody tr th:only-of-type {\n",
       "        vertical-align: middle;\n",
       "    }\n",
       "\n",
       "    .dataframe tbody tr th {\n",
       "        vertical-align: top;\n",
       "    }\n",
       "\n",
       "    .dataframe thead th {\n",
       "        text-align: right;\n",
       "    }\n",
       "</style>\n",
       "<table border=\"1\" class=\"dataframe\">\n",
       "  <thead>\n",
       "    <tr style=\"text-align: right;\">\n",
       "      <th></th>\n",
       "      <th>First</th>\n",
       "      <th>Second</th>\n",
       "      <th>Third</th>\n",
       "      <th>First_z</th>\n",
       "      <th>Second_z</th>\n",
       "      <th>Third_z</th>\n",
       "    </tr>\n",
       "  </thead>\n",
       "  <tbody>\n",
       "  </tbody>\n",
       "</table>\n",
       "</div>"
      ],
      "text/plain": [
       "Empty DataFrame\n",
       "Columns: [First, Second, Third, First_z, Second_z, Third_z]\n",
       "Index: []"
      ]
     },
     "execution_count": 217,
     "metadata": {},
     "output_type": "execute_result"
    }
   ],
   "source": [
    "a=df[df['First_z']>3]\n",
    "a"
   ]
  },
  {
   "cell_type": "code",
   "execution_count": 218,
   "metadata": {},
   "outputs": [],
   "source": [
    "df['First'] = df['First'].replace(a['First'].to_list(),df['First'].mean())\n",
    "for i in a.index:\n",
    "    print(i)\n",
    "    print(df['First'].iloc[i])"
   ]
  },
  {
   "cell_type": "code",
   "execution_count": 219,
   "metadata": {},
   "outputs": [
    {
     "data": {
      "text/html": [
       "<div>\n",
       "<style scoped>\n",
       "    .dataframe tbody tr th:only-of-type {\n",
       "        vertical-align: middle;\n",
       "    }\n",
       "\n",
       "    .dataframe tbody tr th {\n",
       "        vertical-align: top;\n",
       "    }\n",
       "\n",
       "    .dataframe thead th {\n",
       "        text-align: right;\n",
       "    }\n",
       "</style>\n",
       "<table border=\"1\" class=\"dataframe\">\n",
       "  <thead>\n",
       "    <tr style=\"text-align: right;\">\n",
       "      <th></th>\n",
       "      <th>First</th>\n",
       "      <th>Second</th>\n",
       "      <th>Third</th>\n",
       "      <th>First_z</th>\n",
       "      <th>Second_z</th>\n",
       "      <th>Third_z</th>\n",
       "    </tr>\n",
       "  </thead>\n",
       "  <tbody>\n",
       "  </tbody>\n",
       "</table>\n",
       "</div>"
      ],
      "text/plain": [
       "Empty DataFrame\n",
       "Columns: [First, Second, Third, First_z, Second_z, Third_z]\n",
       "Index: []"
      ]
     },
     "execution_count": 219,
     "metadata": {},
     "output_type": "execute_result"
    }
   ],
   "source": [
    "a=df[df['Second_z']<-3]\n",
    "a"
   ]
  },
  {
   "cell_type": "code",
   "execution_count": 220,
   "metadata": {},
   "outputs": [],
   "source": [
    "df['Second'] = df['Second'].replace(a['Second'].to_list(),df['Second'].mean())\n",
    "for i in a.index:\n",
    "    print(i)\n",
    "    print(df['Second'].iloc[i])"
   ]
  },
  {
   "cell_type": "code",
   "execution_count": 221,
   "metadata": {},
   "outputs": [
    {
     "data": {
      "text/html": [
       "<div>\n",
       "<style scoped>\n",
       "    .dataframe tbody tr th:only-of-type {\n",
       "        vertical-align: middle;\n",
       "    }\n",
       "\n",
       "    .dataframe tbody tr th {\n",
       "        vertical-align: top;\n",
       "    }\n",
       "\n",
       "    .dataframe thead th {\n",
       "        text-align: right;\n",
       "    }\n",
       "</style>\n",
       "<table border=\"1\" class=\"dataframe\">\n",
       "  <thead>\n",
       "    <tr style=\"text-align: right;\">\n",
       "      <th></th>\n",
       "      <th>First</th>\n",
       "      <th>Second</th>\n",
       "      <th>Third</th>\n",
       "      <th>First_z</th>\n",
       "      <th>Second_z</th>\n",
       "      <th>Third_z</th>\n",
       "    </tr>\n",
       "  </thead>\n",
       "  <tbody>\n",
       "  </tbody>\n",
       "</table>\n",
       "</div>"
      ],
      "text/plain": [
       "Empty DataFrame\n",
       "Columns: [First, Second, Third, First_z, Second_z, Third_z]\n",
       "Index: []"
      ]
     },
     "execution_count": 221,
     "metadata": {},
     "output_type": "execute_result"
    }
   ],
   "source": [
    "a=df[df['Second_z']>3]\n",
    "a"
   ]
  },
  {
   "cell_type": "code",
   "execution_count": 222,
   "metadata": {},
   "outputs": [],
   "source": [
    "df['Second'] = df['Second'].replace(a['Second'].to_list(),df['Second'].mean())\n",
    "for i in a.index:\n",
    "    print(i)\n",
    "    print(df['Second'].iloc[i])"
   ]
  },
  {
   "cell_type": "code",
   "execution_count": 223,
   "metadata": {},
   "outputs": [
    {
     "data": {
      "text/html": [
       "<div>\n",
       "<style scoped>\n",
       "    .dataframe tbody tr th:only-of-type {\n",
       "        vertical-align: middle;\n",
       "    }\n",
       "\n",
       "    .dataframe tbody tr th {\n",
       "        vertical-align: top;\n",
       "    }\n",
       "\n",
       "    .dataframe thead th {\n",
       "        text-align: right;\n",
       "    }\n",
       "</style>\n",
       "<table border=\"1\" class=\"dataframe\">\n",
       "  <thead>\n",
       "    <tr style=\"text-align: right;\">\n",
       "      <th></th>\n",
       "      <th>First</th>\n",
       "      <th>Second</th>\n",
       "      <th>Third</th>\n",
       "      <th>First_z</th>\n",
       "      <th>Second_z</th>\n",
       "      <th>Third_z</th>\n",
       "    </tr>\n",
       "  </thead>\n",
       "  <tbody>\n",
       "  </tbody>\n",
       "</table>\n",
       "</div>"
      ],
      "text/plain": [
       "Empty DataFrame\n",
       "Columns: [First, Second, Third, First_z, Second_z, Third_z]\n",
       "Index: []"
      ]
     },
     "execution_count": 223,
     "metadata": {},
     "output_type": "execute_result"
    }
   ],
   "source": [
    "a=df[df['Third_z']<-3]\n",
    "a"
   ]
  },
  {
   "cell_type": "code",
   "execution_count": 224,
   "metadata": {},
   "outputs": [],
   "source": [
    "df['Third'] = df['Third'].replace(a['Third'].to_list(),df['Third'].mean())\n",
    "for i in a.index:\n",
    "    print(i)\n",
    "    print(df['Third'].iloc[i])"
   ]
  },
  {
   "cell_type": "code",
   "execution_count": 225,
   "metadata": {},
   "outputs": [
    {
     "data": {
      "text/html": [
       "<div>\n",
       "<style scoped>\n",
       "    .dataframe tbody tr th:only-of-type {\n",
       "        vertical-align: middle;\n",
       "    }\n",
       "\n",
       "    .dataframe tbody tr th {\n",
       "        vertical-align: top;\n",
       "    }\n",
       "\n",
       "    .dataframe thead th {\n",
       "        text-align: right;\n",
       "    }\n",
       "</style>\n",
       "<table border=\"1\" class=\"dataframe\">\n",
       "  <thead>\n",
       "    <tr style=\"text-align: right;\">\n",
       "      <th></th>\n",
       "      <th>First</th>\n",
       "      <th>Second</th>\n",
       "      <th>Third</th>\n",
       "      <th>First_z</th>\n",
       "      <th>Second_z</th>\n",
       "      <th>Third_z</th>\n",
       "    </tr>\n",
       "  </thead>\n",
       "  <tbody>\n",
       "  </tbody>\n",
       "</table>\n",
       "</div>"
      ],
      "text/plain": [
       "Empty DataFrame\n",
       "Columns: [First, Second, Third, First_z, Second_z, Third_z]\n",
       "Index: []"
      ]
     },
     "execution_count": 225,
     "metadata": {},
     "output_type": "execute_result"
    }
   ],
   "source": [
    "a=df[df['Third_z']>3]\n",
    "a"
   ]
  },
  {
   "cell_type": "code",
   "execution_count": 226,
   "metadata": {},
   "outputs": [],
   "source": [
    "df['Third'] = df['Third'].replace(a['Third'].to_list(),df['Third'].mean())\n",
    "df=df.drop(columns=['First_z','Second_z','Third_z'])\n",
    "for i in a.index:\n",
    "    print(i)\n",
    "    print(df['Third'].iloc[i])"
   ]
  },
  {
   "cell_type": "markdown",
   "metadata": {},
   "source": [
    "**Exercise 5.3: PCA**\n",
    "\n",
    "1) Apply PCA to the data - output of **Exercise 5.2** (with no outliers) in order to reduce the dimension from 3 to 2 (use \"PCA(n_components = 2)\". \n",
    "\n",
    "2) Transform your data (3 dimensional) to a new data (2 dimensional) by applying \"pca.transform\", then print the shapes and the first 5 rows of your data and new/transformed data."
   ]
  },
  {
   "cell_type": "code",
   "execution_count": 227,
   "metadata": {},
   "outputs": [
    {
     "data": {
      "text/plain": [
       "PCA(n_components=2)"
      ]
     },
     "execution_count": 227,
     "metadata": {},
     "output_type": "execute_result"
    }
   ],
   "source": [
    "import matplotlib.pyplot as plt\n",
    "from sklearn.decomposition import PCA\n",
    "pca = PCA(n_components = 2)\n",
    "tdf=np.array(df)\n",
    "pca.fit(tdf)"
   ]
  },
  {
   "cell_type": "code",
   "execution_count": 228,
   "metadata": {},
   "outputs": [],
   "source": [
    "df_transformed = pca.transform(df)"
   ]
  },
  {
   "cell_type": "code",
   "execution_count": 229,
   "metadata": {},
   "outputs": [
    {
     "name": "stdout",
     "output_type": "stream",
     "text": [
      "original shape:  (200, 3)\n",
      "transformed shape:  (200, 2)\n"
     ]
    }
   ],
   "source": [
    "print(\"original shape: \", df.shape)\n",
    "print(\"transformed shape: \", df_transformed.shape)"
   ]
  },
  {
   "cell_type": "code",
   "execution_count": 230,
   "metadata": {},
   "outputs": [
    {
     "data": {
      "text/plain": [
       "(-2.813431556631151,\n",
       " 2.571016544018412,\n",
       " -0.05500000000000001,\n",
       " 0.05500000000000001)"
      ]
     },
     "execution_count": 230,
     "metadata": {},
     "output_type": "execute_result"
    },
    {
     "data": {
      "image/png": "[encoded data removed]",
      "text/plain": [
       "<Figure size 432x288 with 1 Axes>"
      ]
     },
     "metadata": {
      "needs_background": "light"
     },
     "output_type": "display_data"
    }
   ],
   "source": [
    "plt.scatter(tdf[:,0], tdf[:, 1],tdf[:,2])\n",
    "plt.axis('equal')"
   ]
  },
  {
   "cell_type": "code",
   "execution_count": 231,
   "metadata": {},
   "outputs": [
    {
     "data": {
      "text/plain": [
       "(-2.5025367691689104,\n",
       " 2.8819113314806524,\n",
       " -0.05500000000000001,\n",
       " 0.05500000000000001)"
      ]
     },
     "execution_count": 231,
     "metadata": {},
     "output_type": "execute_result"
    },
    {
     "data": {
      "image/png": "[encoded data removed]",
      "text/plain": [
       "<Figure size 432x288 with 1 Axes>"
      ]
     },
     "metadata": {
      "needs_background": "light"
     },
     "output_type": "display_data"
    }
   ],
   "source": [
    "plt.scatter(df_transformed[:,0], df_transformed[:, 1])\n",
    "plt.axis('equal')"
   ]
  },
  {
   "cell_type": "code",
   "execution_count": 232,
   "metadata": {},
   "outputs": [
    {
     "data": {
      "text/html": [
       "<div>\n",
       "<style scoped>\n",
       "    .dataframe tbody tr th:only-of-type {\n",
       "        vertical-align: middle;\n",
       "    }\n",
       "\n",
       "    .dataframe tbody tr th {\n",
       "        vertical-align: top;\n",
       "    }\n",
       "\n",
       "    .dataframe thead th {\n",
       "        text-align: right;\n",
       "    }\n",
       "</style>\n",
       "<table border=\"1\" class=\"dataframe\">\n",
       "  <thead>\n",
       "    <tr style=\"text-align: right;\">\n",
       "      <th></th>\n",
       "      <th>First</th>\n",
       "      <th>Second</th>\n",
       "    </tr>\n",
       "  </thead>\n",
       "  <tbody>\n",
       "    <tr>\n",
       "      <th>0</th>\n",
       "      <td>-0.627874</td>\n",
       "      <td>0.0</td>\n",
       "    </tr>\n",
       "    <tr>\n",
       "      <th>1</th>\n",
       "      <td>2.221263</td>\n",
       "      <td>0.0</td>\n",
       "    </tr>\n",
       "    <tr>\n",
       "      <th>2</th>\n",
       "      <td>1.474501</td>\n",
       "      <td>0.0</td>\n",
       "    </tr>\n",
       "    <tr>\n",
       "      <th>3</th>\n",
       "      <td>-2.024401</td>\n",
       "      <td>0.0</td>\n",
       "    </tr>\n",
       "    <tr>\n",
       "      <th>4</th>\n",
       "      <td>-0.991200</td>\n",
       "      <td>0.0</td>\n",
       "    </tr>\n",
       "  </tbody>\n",
       "</table>\n",
       "</div>"
      ],
      "text/plain": [
       "      First  Second\n",
       "0 -0.627874     0.0\n",
       "1  2.221263     0.0\n",
       "2  1.474501     0.0\n",
       "3 -2.024401     0.0\n",
       "4 -0.991200     0.0"
      ]
     },
     "execution_count": 232,
     "metadata": {},
     "output_type": "execute_result"
    }
   ],
   "source": [
    "d = {'First':df_transformed[:,0],'Second':df_transformed[:,1]}\n",
    "df_PCA=pd.DataFrame(d)\n",
    "df_PCA.head()"
   ]
  },
  {
   "cell_type": "code",
   "execution_count": 233,
   "metadata": {},
   "outputs": [
    {
     "data": {
      "text/html": [
       "<div>\n",
       "<style scoped>\n",
       "    .dataframe tbody tr th:only-of-type {\n",
       "        vertical-align: middle;\n",
       "    }\n",
       "\n",
       "    .dataframe tbody tr th {\n",
       "        vertical-align: top;\n",
       "    }\n",
       "\n",
       "    .dataframe thead th {\n",
       "        text-align: right;\n",
       "    }\n",
       "</style>\n",
       "<table border=\"1\" class=\"dataframe\">\n",
       "  <thead>\n",
       "    <tr style=\"text-align: right;\">\n",
       "      <th></th>\n",
       "      <th>First</th>\n",
       "      <th>Second</th>\n",
       "      <th>Third</th>\n",
       "    </tr>\n",
       "  </thead>\n",
       "  <tbody>\n",
       "    <tr>\n",
       "      <th>0</th>\n",
       "      <td>0.696354</td>\n",
       "      <td>0.0</td>\n",
       "      <td>3.0</td>\n",
       "    </tr>\n",
       "    <tr>\n",
       "      <th>1</th>\n",
       "      <td>-2.152783</td>\n",
       "      <td>0.0</td>\n",
       "      <td>3.0</td>\n",
       "    </tr>\n",
       "    <tr>\n",
       "      <th>2</th>\n",
       "      <td>-1.406021</td>\n",
       "      <td>0.0</td>\n",
       "      <td>3.0</td>\n",
       "    </tr>\n",
       "    <tr>\n",
       "      <th>3</th>\n",
       "      <td>2.092881</td>\n",
       "      <td>0.0</td>\n",
       "      <td>3.0</td>\n",
       "    </tr>\n",
       "    <tr>\n",
       "      <th>4</th>\n",
       "      <td>1.059680</td>\n",
       "      <td>0.0</td>\n",
       "      <td>3.0</td>\n",
       "    </tr>\n",
       "  </tbody>\n",
       "</table>\n",
       "</div>"
      ],
      "text/plain": [
       "      First  Second  Third\n",
       "0  0.696354     0.0    3.0\n",
       "1 -2.152783     0.0    3.0\n",
       "2 -1.406021     0.0    3.0\n",
       "3  2.092881     0.0    3.0\n",
       "4  1.059680     0.0    3.0"
      ]
     },
     "execution_count": 233,
     "metadata": {},
     "output_type": "execute_result"
    }
   ],
   "source": [
    "df.head()"
   ]
  },
  {
   "cell_type": "code",
   "execution_count": null,
   "metadata": {},
   "outputs": [],
   "source": []
  },
  {
   "cell_type": "code",
   "execution_count": null,
   "metadata": {},
   "outputs": [],
   "source": []
  }
 ],
 "metadata": {
  "kernelspec": {
   "display_name": "Python 3",
   "language": "python",
   "name": "python3"
  },
  "language_info": {
   "codemirror_mode": {
    "name": "ipython",
    "version": 3
   },
   "file_extension": ".py",
   "mimetype": "text/x-python",
   "name": "python",
   "nbconvert_exporter": "python",
   "pygments_lexer": "ipython3",
   "version": "3.8.3"
  }
 },
 "nbformat": 4,
 "nbformat_minor": 2
}
